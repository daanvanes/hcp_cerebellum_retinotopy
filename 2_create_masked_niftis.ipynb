{
 "cells": [
  {
   "cell_type": "markdown",
   "metadata": {},
   "source": [
    "# Masking the niftis \n",
    "\n",
    "This notebook loads in the nifti's created in the previous notebook (1_export_ciftis). Here, we'll apply different maskings to these niftis and save these as separate files. This way, the diferent maskings can be easily viewed (i.e. in fslview)."
   ]
  },
  {
   "cell_type": "code",
   "execution_count": null,
   "metadata": {
    "collapsed": false
   },
   "outputs": [],
   "source": [
    "from __future__ import division\n",
    "import os\n",
    "import nibabel as nb\n",
    "import numpy as np"
   ]
  },
  {
   "cell_type": "markdown",
   "metadata": {},
   "source": [
    "### define directories\n"
   ]
  },
  {
   "cell_type": "code",
   "execution_count": null,
   "metadata": {
    "collapsed": true
   },
   "outputs": [],
   "source": [
    "repo_dir = '/home/vanes/git/hcp_cerebellum/'\n",
    "data_dir = '/home/shared/2018/visual/hcp_cerebellum/'"
   ]
  },
  {
   "cell_type": "markdown",
   "metadata": {},
   "source": [
    "### subdirectories"
   ]
  },
  {
   "cell_type": "code",
   "execution_count": null,
   "metadata": {
    "collapsed": false
   },
   "outputs": [],
   "source": [
    "mask_dir = os.path.join(data_dir,'masked_niftis')\n",
    "if not os.path.isdir(mask_dir): os.mkdir(mask_dir)\n",
    "resource_dir = os.path.join(os.getcwd(),'resources')"
   ]
  },
  {
   "cell_type": "markdown",
   "metadata": {},
   "source": [
    "### define dimensions"
   ]
  },
  {
   "cell_type": "code",
   "execution_count": null,
   "metadata": {
    "collapsed": false
   },
   "outputs": [],
   "source": [
    "dims = {\n",
    "    'ang':0,\n",
    "    'ecc':1,\n",
    "    'gain':2,\n",
    "    'meanvol':3,\n",
    "    'r2':4,\n",
    "    'rfsize':5\n",
    "}"
   ]
  },
  {
   "cell_type": "markdown",
   "metadata": {},
   "source": [
    "### setup functions to create different masks"
   ]
  },
  {
   "cell_type": "code",
   "execution_count": null,
   "metadata": {
    "collapsed": false
   },
   "outputs": [],
   "source": [
    "def create_r2_mask(sj,data):\n",
    "    \"\"\"\n",
    "    These values were determined in the original HCP retinotopy paper\n",
    "    by fitting a gaussian mixture model to the distribution of R2s \n",
    "    and finding the point where two gaussians intersect (i.e. maximally\n",
    "    separating a 'noise' from a 'signal' distribution)\n",
    "    \"\"\"\n",
    "    \n",
    "    if type(sj) == str: # these are the different average subjects\n",
    "#     if sj in [181,182,183]: \n",
    "        r2thresh=9.8         \n",
    "    else: # this is for individual subjects\n",
    "        r2thresh=2.2\n",
    "\n",
    "    r2mask = (data[:,:,:,dims['r2']]>r2thresh)\n",
    "\n",
    "    return r2mask\n",
    "\n",
    "def create_spill_mask():\n",
    "    \"\"\"\n",
    "    This applies the spill mask drawn on data from the avg subject.\n",
    "    The 'spill' refers to activity from cortex that is averaged\n",
    "    into the cerebellum by the smoothing and nonlinear transformations\n",
    "    to MNI space. The mask is available in the repo of this code.\n",
    "    \"\"\"   \n",
    "    # load the spillover mask results nifti\n",
    "    fn = os.path.join(resource_dir,'volume_masks','spillovermask.nii.gz')\n",
    "    img = nb.load(fn)\n",
    "    spillmask = (img.get_data()==0) # spillovermask is 0 for valid voxels\n",
    "\n",
    "    return spillmask\n",
    "\n",
    "def create_fix_mask(data):\n",
    "    \"\"\"\n",
    "    Create a fixation mark mask, where voxels smaller than < 0.15 ecc and size\n",
    "    are excluded.\n",
    "    \"\"\"\n",
    "\n",
    "    sizethresh = 0.15\n",
    "    eccthresh = 0.15\n",
    "    sizemask = (data[:,:,:,dims['rfsize']]<sizethresh) # invalid voxels\n",
    "    eccmask = (data[:,:,:,dims['ecc']]<eccthresh) # invalid voxels\n",
    "    fixmask = np.invert(sizemask*eccmask) # valid voxels\n",
    "\n",
    "    return fixmask\n",
    "\n",
    "def create_roi_mask():\n",
    "    \"\"\"\n",
    "    This mask deselects all voxels outside the retinotopic\n",
    "    clusters identified in the average subject.\n",
    "    \"\"\"\n",
    "    \n",
    "    roi_fn = os.path.join(resource_dir,'volume_masks','cerebellum_retmaps.nii')\n",
    "    maskimg = nb.load(roi_fn)\n",
    "    roimask = (maskimg.get_data()>0) # valid voxels  \n",
    "\n",
    "    return roimask\n",
    "\n",
    "def mask_voxels(data,mask_type,sj):\n",
    "    \"\"\"\n",
    "    This function returns a mask bool where \n",
    "    1 = valid voxel\n",
    "    0 = invalid voxel\n",
    "    \"\"\"\n",
    "\n",
    "    if mask_type == 'unmasked':\n",
    "        \n",
    "        mask = np.ones_like(data[:,:,:,0]).astype(bool)\n",
    "        \n",
    "    elif mask_type == 'r2':\n",
    "        \n",
    "        # only one mask required\n",
    "        mask = create_r2_mask(sj,data)\n",
    "        \n",
    "    elif mask_type == 'r2_spill':\n",
    "        \n",
    "        # create individual masks\n",
    "        r2mask = create_r2_mask(sj,data)\n",
    "        spillmask = create_spill_mask()\n",
    "        \n",
    "        # combine masks\n",
    "        mask = r2mask*spillmask\n",
    "        \n",
    "    elif mask_type == 'r2_spill_fix':\n",
    "\n",
    "        # create individual masks\n",
    "        r2mask = create_r2_mask(sj,data)\n",
    "        spillmask = create_spill_mask()\n",
    "        fixmask = create_fix_mask(data)\n",
    "\n",
    "        # now combine masks\n",
    "        mask = r2mask*fixmask*spillmask\n",
    "                \n",
    "    elif mask_type == 'r2_roi':\n",
    "        \n",
    "        # create individual masks\n",
    "        r2mask = create_r2_mask(sj,data)\n",
    "        roimask = create_roi_mask()\n",
    "        \n",
    "        # combining masks\n",
    "        mask = r2mask*roimask\n",
    "        \n",
    "    elif mask_type == 'r2_fix_roi':\n",
    "        \n",
    "        # create individual masks\n",
    "        r2mask = create_r2_mask(sj,data)\n",
    "        roimask = create_roi_mask()\n",
    "        fixmask = create_fix_mask(data)\n",
    "\n",
    "        # combining masks\n",
    "        mask = r2mask*roimask *fixmask\n",
    "        \n",
    "    return mask\n"
   ]
  },
  {
   "cell_type": "markdown",
   "metadata": {},
   "source": [
    "### create a function to determine a subject ranking:"
   ]
  },
  {
   "cell_type": "code",
   "execution_count": null,
   "metadata": {
    "collapsed": true
   },
   "outputs": [],
   "source": [
    "def determine_best_subjects():\n",
    "    \n",
    "    \"\"\"\n",
    "    This function determines the best subjects based on the median\n",
    "    r-squared within the retinotopic clusters defined in the average subject.\n",
    "    \"\"\"\n",
    "\n",
    "    roimask = create_roi_mask()\n",
    "\n",
    "    all_r2 = []\n",
    "    for sj in range(181):      \n",
    "\n",
    "        # load the prf results nifti\n",
    "        fn = os.path.join(data_dir,'all_subjects','prfresults_subject_%d.dscalar_data_sub.nii.gz'%sj)\n",
    "        img = nb.load(fn)\n",
    "        data = img.get_data()\n",
    "\n",
    "        # mask r2s with roi mask:\n",
    "        r2s = np.ravel(data[roimask,dims['r2']])    \n",
    "        # and get median within these voxels\n",
    "        all_r2.append(np.nanmedian(r2s))\n",
    "\n",
    "    # sort subjects based on median r2\n",
    "    best_subjects = np.argsort(all_r2)[::-1]\n",
    "\n",
    "    return best_subjects"
   ]
  },
  {
   "cell_type": "markdown",
   "metadata": {},
   "source": [
    "### setup function to apply different maskings\n",
    "\n",
    "For the HCP average subject, we'll create the following maskings:\n",
    "\n",
    "1. r2 mask: r_squared for the avg subjects at 9.8 (determined in HCP retinotopy manuscript)\n",
    "2. r2 mask + 'spill' mask: add the 'spillover mask' that removes voxels at the border between ventral cortex and the cerebellum, representing smoothed in activity from visual cortex.\n",
    "3. r2 mask + 'spill' mask + 'fixation' mask: add a mask that excludes pRFs < 0.15 ecc and < 0.15 size. This throws out voxels with pRFs that overlap with the fixation point\n",
    "\n",
    "Based on the latter mask, separate retinotopic clusters were defined in fslview. For the individual subjects, we will mask the data using the individual subject r2 threshold (2.2), and mask all data that fall outside of the retinotopic clusters as identified in the average subject."
   ]
  },
  {
   "cell_type": "code",
   "execution_count": null,
   "metadata": {
    "collapsed": false
   },
   "outputs": [],
   "source": [
    "def create_masked_niftis(mask_types,sjs):\n",
    "    \"\"\"\n",
    "    this function actually applies the mask to the data \n",
    "    and saves:\n",
    "    (1) a nifti with all dimensions and \n",
    "    (2) a separate nifti for each dimension. This is needed for the matlab SUIT toolbox.\n",
    "    \"\"\"\n",
    "    \n",
    "    best_subjects = determine_best_subjects()\n",
    "\n",
    "    for sj in sjs:\n",
    "        for mask_type in mask_types:\n",
    "\n",
    "            if type(sj) != str:\n",
    "                # determine subject rank\n",
    "                rank = str(np.where(best_subjects==sj)[0][0])\n",
    "            else:\n",
    "                rank = sj\n",
    "\n",
    "            print('now creating masks for subject %s, rank %s, mask %s'%(str(sj),rank,mask_type))\n",
    "\n",
    "            # try to create mask dir\n",
    "            mask_dir = os.path.join(data_dir,'masked_niftis',mask_type)\n",
    "            if not os.path.isdir(mask_dir): os.mkdir(mask_dir)\n",
    "\n",
    "            # load the prf results nifti\n",
    "            fn = os.path.join(data_dir,'all_subjects','prfresults_subject_%s.dscalar_data_sub.nii.gz'%str(sj))        \n",
    "            img = nb.load(fn)\n",
    "            data = img.get_data()\n",
    "\n",
    "            # determine the mask\n",
    "            mask = mask_voxels(data,mask_type,sj)\n",
    "\n",
    "            #mask data\n",
    "            data[~mask] = np.nan\n",
    "\n",
    "            # save data\n",
    "            out_fn = os.path.join(mask_dir,'prfresults_subject_rank_%s.nii.gz'%rank)       \n",
    "            new_data = nb.Nifti1Image(data,affine=img.affine,header=img.header)\n",
    "            nb.save(new_data,out_fn)\n",
    "\n",
    "            # save dimensions separately (for surface plots)\n",
    "            # Note: this has to be an unzipped nifti for SUIT to be able to read it\n",
    "            for m in ['ang','ecc','rfsize','r2']:\n",
    "                these_data = data[:,:,:,dims[m]]\n",
    "                if m == 'ang': # convert to radians, so later conversion is easier\n",
    "                    these_data = np.radians(these_data)\n",
    "                out_fn = os.path.join(mask_dir,'prfresults_subject_rank_%s_%s.nii'%(rank,m))        \n",
    "                new_data = nb.Nifti1Image(these_data,affine=img.affine,header=img.header)\n",
    "                nb.save(new_data,out_fn)    "
   ]
  },
  {
   "cell_type": "markdown",
   "metadata": {},
   "source": [
    "#### create masks for average subject"
   ]
  },
  {
   "cell_type": "code",
   "execution_count": null,
   "metadata": {
    "collapsed": false
   },
   "outputs": [],
   "source": [
    "mask_types =  ['r2','r2_spill','r2_spill_fix']\n",
    "sjs = ['183']\n",
    "create_masked_niftis(mask_types,sjs)"
   ]
  },
  {
   "cell_type": "code",
   "execution_count": null,
   "metadata": {
    "collapsed": false
   },
   "outputs": [],
   "source": [
    "mask_types =  ['r2_spill_fix']\n",
    "sjs = ['181','181_1','181_2','182','182_1','182_2','183_1','183_2']\n",
    "create_masked_niftis(mask_types,sjs)"
   ]
  },
  {
   "cell_type": "markdown",
   "metadata": {},
   "source": [
    "## once we defined the retinotopic clusters in the average subject, we can use this to mask individual subjects files"
   ]
  },
  {
   "cell_type": "code",
   "execution_count": null,
   "metadata": {
    "collapsed": false
   },
   "outputs": [],
   "source": [
    "mask_types =  ['r2_fix_roi']\n",
    "sjs = range(181)\n",
    "create_masked_niftis(mask_types,sjs)"
   ]
  }
 ],
 "metadata": {
  "kernelspec": {
   "display_name": "Python [analysis]",
   "language": "python",
   "name": "Python [analysis]"
  },
  "language_info": {
   "codemirror_mode": {
    "name": "ipython",
    "version": 2
   },
   "file_extension": ".py",
   "mimetype": "text/x-python",
   "name": "python",
   "nbconvert_exporter": "python",
   "pygments_lexer": "ipython2",
   "version": "2.7.12"
  }
 },
 "nbformat": 4,
 "nbformat_minor": 0
}
