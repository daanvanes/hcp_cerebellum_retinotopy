{
 "cells": [
  {
   "cell_type": "markdown",
   "metadata": {},
   "source": [
    "# Flatmap data\n",
    "\n",
    "This notebook creates plots of the polar and eccentricity data that was projected to the flatmap by the SUIT toolbox."
   ]
  },
  {
   "cell_type": "code",
   "execution_count": 4,
   "metadata": {
    "collapsed": false
   },
   "outputs": [],
   "source": [
    "import numpy as np\n",
    "import pandas as pd\n",
    "import pycircstat as pc\n",
    "import copy as copy\n",
    "import os\n",
    "import nibabel as nb\n",
    "\n",
    "import matplotlib.pyplot as pl\n",
    "import seaborn as sn\n",
    "sn.set_style('ticks')\n",
    "import glob\n",
    "\n",
    "import matplotlib as mpl\n",
    "%matplotlib inline\n",
    "mpl.rc_file_defaults()"
   ]
  },
  {
   "cell_type": "code",
   "execution_count": 8,
   "metadata": {
    "collapsed": false
   },
   "outputs": [],
   "source": [
    "# define directories\n",
    "base_dir = '/home/shared/2018/visual/hcp_cerebellum/'\n",
    "repo_dir  = '/home/vanes/git/hcp_cerebellum/'\n",
    "suit_home  = '/home/vanes/bin/suit/'\n",
    "\n",
    "resource_dir = os.path.join(repo_dir,'resources')\n",
    "flat_dir = os.path.join(repo_dir,'flat_data')\n",
    "\n",
    "\n",
    "\n",
    "# setup figure directory\n",
    "fig_dir = os.path.join(base_dir,'figs')\n",
    "if not os.path.isdir(fig_dir): os.mkdir(fig_dir)\n",
    "    "
   ]
  },
  {
   "cell_type": "code",
   "execution_count": 9,
   "metadata": {
    "collapsed": true
   },
   "outputs": [],
   "source": [
    "# these are the coordinates of the SUIT flat data:\n",
    "# in the toolbox, these are located in $spmhome/suit/flatmap\n",
    "coords=nb.load(os.path.join(suit_home,'flatmap','FLAT.coord.gii'))\n",
    "\n",
    "x = np.ravel(coords.get_arrays_from_intent(1008)[0].data[:,0]) \n",
    "y = np.ravel(coords.get_arrays_from_intent(1008)[0].data[:,1]) "
   ]
  },
  {
   "cell_type": "code",
   "execution_count": 10,
   "metadata": {
    "collapsed": false
   },
   "outputs": [],
   "source": [
    "# get the flatmap representations of the retmaps\n",
    "masks=np.ravel(pd.read_csv(os.path.join(flat_dir,'retmaps_flat.csv'),header=None))"
   ]
  },
  {
   "cell_type": "code",
   "execution_count": 11,
   "metadata": {
    "collapsed": true
   },
   "outputs": [],
   "source": [
    "roi_order = ['left_OMV','right_OMV','left_VIIb','right_VIIb','left_VIIIb','right_VIIIb']\n",
    "\n",
    "these_combs = {\n",
    "    'left_OMV':['left_mOMV','left_lOMV'],\n",
    "    'right_OMV':['right_mOMV','right_lOMV'],\n",
    "    'left_VIIb':['left_VIIb'],\n",
    "    'right_VIIb':['right_VIIb'],\n",
    "    'left_VIIIb':['left_mVIIIb','left_lVIIIb'],\n",
    "    'right_VIIIb':['right_mVIIIb','right_lVIIIb'],    \n",
    "}"
   ]
  },
  {
   "cell_type": "code",
   "execution_count": 12,
   "metadata": {
    "collapsed": true
   },
   "outputs": [],
   "source": [
    "def rotate_via_numpy(x,y, radians):\n",
    "    \"\"\"Use numpy to build a rotation matrix and take the dot product.\"\"\"\n",
    "    c, s = np.cos(radians), np.sin(radians)\n",
    "    j = np.matrix([[c, s], [-s, c]])\n",
    "    m = np.dot(j, np.matrix([x, y]))\n",
    "\n",
    "    return m"
   ]
  },
  {
   "cell_type": "code",
   "execution_count": 13,
   "metadata": {
    "collapsed": true
   },
   "outputs": [],
   "source": [
    "def get_roi_color(mask):\n",
    "    \n",
    "    # determine base roi colors\n",
    "    if mask in ['left_OMV','right_OMV','OMV']:\n",
    "        c = '#6590CB'\n",
    "    elif mask in ['left_VIIIb','right_VIIIb','VIIIb']:\n",
    "        c = '#E55D5C'\n",
    "    elif ('VIIb' in mask) + (mask=='VIIb'):\n",
    "        c = '#E79F2A'\n",
    "        \n",
    "    # roi colors for lateral / medial separation:\n",
    "    elif mask in ['left_lOMV','right_lOMV','lOMV']:\n",
    "        c = '#6590CB'\n",
    "    elif mask in ['left_mOMV','right_mOMV','mOMV']:\n",
    "        c = '#0D5B99'\n",
    "    elif mask in ['left_mVIIIb','right_mVIIIb','mVIIIb']:\n",
    "        c = '#C03142'\n",
    "    elif mask in ['left_lVIIIb','right_lVIIIb','lVIIIb']:\n",
    "        c = '#E57F80'\n",
    "        \n",
    "    return c"
   ]
  },
  {
   "cell_type": "code",
   "execution_count": 17,
   "metadata": {
    "collapsed": true
   },
   "outputs": [],
   "source": [
    "# these refer to the indices in cerebellum_retmaps.nii\n",
    "mask_names ={\n",
    "'left_mOMV':7,\n",
    "'right_mOMV':9,\n",
    "'left_lOMV':8,\n",
    "'right_lOMV':10,\n",
    "    \n",
    "'left_VIIb':5,\n",
    "'right_VIIb':6,\n",
    "    \n",
    "'left_mVIIIb':3,\n",
    "'right_mVIIIb':2,\n",
    "'left_lVIIIb':4,\n",
    "'right_lVIIIb':1,\n",
    "}\n",
    "\n",
    "# this is how the lateral/medial and left right hemisphere indices combine:\n",
    "roi_combs = {\n",
    "    'left_OMV':[7,8],\n",
    "    'right_OMV':[9,10],\n",
    "    'left_VIIb':[5],\n",
    "    'right_VIIb':[6],\n",
    "    'left_VIIIb':[3,4],\n",
    "    'right_VIIIb':[1,2],\n",
    "\n",
    "    'OMV':[7,8,9,10],\n",
    "    'lOMV':[8,10],\n",
    "    'mOMV':[7,9],\n",
    "    'VIIb':[5,6],\n",
    "    'VIIIb':[1,2,3,4],\n",
    "    'lVIIIb':[1,4],\n",
    "    'mVIIIb':[2,3],\n",
    "}\n",
    "\n",
    "roi_order = ['left_OMV','right_OMV','left_VIIb','right_VIIb','left_VIIIb','right_VIIIb']\n",
    "# roi_comb_order = ['mOMV','lOMV','VIIb','mVIIIb','lVIIIb']           "
   ]
  },
  {
   "cell_type": "code",
   "execution_count": 15,
   "metadata": {
    "collapsed": true
   },
   "outputs": [],
   "source": [
    "kernel = 6 # 1/kernel is the proportion of data in single moving average operation"
   ]
  },
  {
   "cell_type": "markdown",
   "metadata": {},
   "source": [
    "### polar maps"
   ]
  },
  {
   "cell_type": "code",
   "execution_count": 19,
   "metadata": {
    "collapsed": false
   },
   "outputs": [],
   "source": [
    "pl.close('all')\n",
    "angles=np.ravel(pd.read_csv(os.path.join(flat_dir,'ang_flatdata_avgsj.csv'),header=None))\n",
    "r2=np.ravel(pd.read_csv(os.path.join(flat_dir,'r2_flatdata_avgsj.csv'),header=None))\n",
    "\n",
    "# rotate angles so 0 is up\n",
    "angles += 1.5*np.pi\n",
    "angles = np.mod(angles,np.pi*2)\n",
    "\n",
    "# angles\n",
    "rot_mask = {\n",
    "    'left_OMV':0.75,\n",
    "    'right_OMV':0.25,\n",
    "    'left_VIIb':1.25,\n",
    "    'right_VIIb':1.75,\n",
    "    'left_VIIIb':0.75,\n",
    "    'right_VIIIb':0.25,\n",
    "\n",
    "}    \n",
    "\n",
    "f = pl.figure(figsize=(1.7,2.75))\n",
    "\n",
    "for mi,mask in enumerate(roi_order):\n",
    "    \n",
    "    c = get_roi_color(mask)\n",
    "\n",
    "    s = f.add_subplot(3,2,mi+1)\n",
    "\n",
    "    # create mask\n",
    "    v = np.zeros_like(masks).astype(bool)\n",
    "    for subroi in these_combs[mask]:        \n",
    "        v += (masks==mask_names[subroi])\n",
    "    v *= (np.invert(np.isnan(angles)))\n",
    "     \n",
    "    # rotate x values\n",
    "    rotation = rot_mask[mask]\n",
    "    rx = np.ravel(rotate_via_numpy(x,y,rotation*np.pi)[0])\n",
    "\n",
    "    # invert angle data if left hemisphere\n",
    "    if 'left' in mask:\n",
    "        angledata = copy.copy(angles)\n",
    "        angledata = 2*np.pi-angledata\n",
    "    elif 'right' in mask:\n",
    "        angledata = copy.copy(angles)\n",
    "\n",
    "    # create moving average\n",
    "    # first sort values based on x\n",
    "    order = np.argsort(rx[v])\n",
    "    xo = rx[v][order]\n",
    "    yo = angledata[v][order]\n",
    "    wo = r2[v][order]\n",
    "    n = v.sum() \n",
    "    kw = int(n/kernel)\n",
    "    \n",
    "    # set nan weights to 0\n",
    "    wo[np.isnan(wo)] = 0\n",
    "    \n",
    "    ma_x = np.array([np.average(xo[i:i+kw],weights=wo[i:i+kw]) for i in range(n-kw)]) # these are the x coords\n",
    "    ma_y = np.array([pc.mean(yo[i:i+kw],w=wo[i:i+kw]) for i in range(n-kw)]) # these are the angles\n",
    "    \n",
    "    ma_y = np.degrees(ma_y)\n",
    "\n",
    "    pl.plot(ma_x,ma_y,lw=1.5,color=c)\n",
    "\n",
    "    if 'VIIb' not in mask:\n",
    "        pl.axvline(ma_x[np.argmin(ma_y)],ls='--',c='k',dashes=(2,2))\n",
    "        \n",
    "    if 'left' in mask:\n",
    "        pl.ylim(160,290)\n",
    "        pl.yticks([180,270],['down','left'])\n",
    "    elif 'right' in mask:\n",
    "        pl.ylim(160,290)\n",
    "        pl.yticks([180,270],['down','right'])\n",
    "    \n",
    "    pl.xticks([np.min(ma_x),np.max(ma_x)],['0','%.1f'%(np.max(ma_x)-np.min(ma_x))])\n",
    "\n",
    "    sn.despine(offset=2)\n",
    "\n",
    "pl.tight_layout()\n",
    "f.savefig(os.path.join(fig_dir,'anglesurf_cluster.pdf'))"
   ]
  },
  {
   "cell_type": "markdown",
   "metadata": {},
   "source": [
    "### now do the same for eccentricity"
   ]
  },
  {
   "cell_type": "code",
   "execution_count": 27,
   "metadata": {
    "collapsed": false
   },
   "outputs": [],
   "source": [
    "eccs=np.ravel(pd.read_csv(os.path.join(flat_dir,'ecc_flatdata_avgsj.csv'),header=None))\n",
    "r2=np.ravel(pd.read_csv(os.path.join(flat_dir,'r2_flatdata_avgsj.csv'),header=None))\n",
    "\n",
    "# angles\n",
    "rot_mask = {\n",
    "    'left_OMV':0.25,\n",
    "    'right_OMV':0.75,\n",
    "    'left_VIIb':0,\n",
    "    'right_VIIb':1,\n",
    "    'left_VIIIb':0.25,\n",
    "    'right_VIIIb':0.75,\n",
    "}\n",
    "\n",
    "f = pl.figure(figsize=(1.5,2.75))\n",
    "\n",
    "for mi,mask in enumerate(roi_order):\n",
    "    \n",
    "    c = get_roi_color(mask)\n",
    "\n",
    "    s = f.add_subplot(3,2,mi+1)\n",
    "\n",
    "    # create mask\n",
    "    v = np.zeros_like(masks).astype(bool)\n",
    "    for subroi in these_combs[mask]:        \n",
    "        v += (masks==mask_names[subroi])\n",
    "    v *= (np.invert(np.isnan(eccs)))\n",
    "     \n",
    "    # rotate x values\n",
    "    rotation = rot_mask[mask]\n",
    "    rx = np.ravel(rotate_via_numpy(x,y,rotation*np.pi)[0])\n",
    "\n",
    "    data = copy.copy(eccs)\n",
    "\n",
    "    order = np.argsort(rx[v])\n",
    "    xo = rx[v][order]\n",
    "    yo = data[v][order]\n",
    "    wo = r2[v][order]\n",
    "    n = v.sum() \n",
    "    kw = int(n/kernel)\n",
    "\n",
    "    # set nan weights to 0\n",
    "    wo[np.isnan(wo)] = 0    \n",
    "\n",
    "    ma_x = np.array([np.average(xo[i:i+kw],weights=wo[i:i+kw]) for i in range(n-kw)]) # these are the x coords\n",
    "    ma_y = np.array([pc.mean(yo[i:i+kw],w=wo[i:i+kw]) for i in range(n-kw)]) # these are the angles\n",
    "\n",
    "    pl.plot(ma_x,ma_y,lw=1.5,color=c)\n",
    "\n",
    "    if (mask == 'left_OMV') + (mask == 'right_OMV'):\n",
    "        pl.yticks([0,0.5],['0','0.5'])\n",
    "        pl.ylim(0,0.5)\n",
    "    elif (mask == 'left_VIIb') + (mask == 'right_VIIb'):\n",
    "        pl.yticks([0,4],['0','4.0'])\n",
    "        pl.ylim(0,4)\n",
    "    elif (mask == 'left_VIIIb') + (mask == 'right_VIIIb'):\n",
    "        pl.yticks([0,8],['0','8.0'])\n",
    "        pl.ylim(0,8)\n",
    "\n",
    "    pl.xticks([np.min(ma_x),np.max(ma_x)],['0','%.1f'%(np.max(ma_x)-np.min(ma_x))])\n",
    "\n",
    "    sn.despine(offset=2)\n",
    "\n",
    "pl.tight_layout()\n",
    "f.savefig(os.path.join(fig_dir,'eccsurf_cluster.pdf'))#,dpi=500)"
   ]
  },
  {
   "cell_type": "code",
   "execution_count": null,
   "metadata": {
    "collapsed": true
   },
   "outputs": [],
   "source": []
  }
 ],
 "metadata": {
  "kernelspec": {
   "display_name": "Python [analysis]",
   "language": "python",
   "name": "Python [analysis]"
  },
  "language_info": {
   "codemirror_mode": {
    "name": "ipython",
    "version": 2
   },
   "file_extension": ".py",
   "mimetype": "text/x-python",
   "name": "python",
   "nbconvert_exporter": "python",
   "pygments_lexer": "ipython2",
   "version": "2.7.12"
  }
 },
 "nbformat": 4,
 "nbformat_minor": 0
}
