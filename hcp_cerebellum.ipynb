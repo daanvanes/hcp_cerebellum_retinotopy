{
 "cells": [
  {
   "cell_type": "code",
   "execution_count": 5,
   "metadata": {
    "collapsed": false
   },
   "outputs": [
    {
     "ename": "NameError",
     "evalue": "name 'best_subjects_roisum' is not defined",
     "output_type": "error",
     "traceback": [
      "\u001b[0;31m---------------------------------------------------------------------------\u001b[0m",
      "\u001b[0;31mNameError\u001b[0m                                 Traceback (most recent call last)",
      "\u001b[0;32m<ipython-input-5-5de3ed5e212c>\u001b[0m in \u001b[0;36m<module>\u001b[0;34m()\u001b[0m\n\u001b[1;32m      1\u001b[0m \u001b[0;31m# load  subject nifti\u001b[0m\u001b[0;34m\u001b[0m\u001b[0;34m\u001b[0m\u001b[0m\n\u001b[0;32m----> 2\u001b[0;31m \u001b[0;32mfor\u001b[0m \u001b[0msj\u001b[0m \u001b[0;32min\u001b[0m \u001b[0mnp\u001b[0m\u001b[0;34m.\u001b[0m\u001b[0mhstack\u001b[0m\u001b[0;34m(\u001b[0m\u001b[0;34m[\u001b[0m\u001b[0mbest_subjects_roisum\u001b[0m\u001b[0;34m,\u001b[0m\u001b[0;36m181\u001b[0m\u001b[0;34m,\u001b[0m\u001b[0;36m182\u001b[0m\u001b[0;34m,\u001b[0m\u001b[0;36m183\u001b[0m\u001b[0;34m]\u001b[0m\u001b[0;34m)\u001b[0m\u001b[0;34m:\u001b[0m\u001b[0;34m\u001b[0m\u001b[0m\n\u001b[0m\u001b[1;32m      3\u001b[0m     \u001b[0mdata\u001b[0m\u001b[0;34m=\u001b[0m\u001b[0mnb\u001b[0m\u001b[0;34m.\u001b[0m\u001b[0mload\u001b[0m\u001b[0;34m(\u001b[0m\u001b[0mos\u001b[0m\u001b[0;34m.\u001b[0m\u001b[0mpath\u001b[0m\u001b[0;34m.\u001b[0m\u001b[0mjoin\u001b[0m\u001b[0;34m(\u001b[0m\u001b[0mout_dir\u001b[0m\u001b[0;34m,\u001b[0m\u001b[0mbest_subjects\u001b[0m\u001b[0;34m,\u001b[0m\u001b[0;34m'prfresults_subject_%d_ecc_r2_mask.nii'\u001b[0m\u001b[0;34m%\u001b[0m\u001b[0msj\u001b[0m\u001b[0;34m)\u001b[0m\u001b[0;34m)\u001b[0m\u001b[0;34m.\u001b[0m\u001b[0mget_data\u001b[0m\u001b[0;34m(\u001b[0m\u001b[0;34m)\u001b[0m\u001b[0;34m\u001b[0m\u001b[0m\n\u001b[1;32m      4\u001b[0m \u001b[0;34m\u001b[0m\u001b[0m\n\u001b[1;32m      5\u001b[0m     \u001b[0mpl\u001b[0m\u001b[0;34m.\u001b[0m\u001b[0mfigure\u001b[0m\u001b[0;34m(\u001b[0m\u001b[0mfigsize\u001b[0m\u001b[0;34m=\u001b[0m\u001b[0;34m(\u001b[0m\u001b[0;36m15\u001b[0m\u001b[0;34m,\u001b[0m\u001b[0;36m5\u001b[0m\u001b[0;34m)\u001b[0m\u001b[0;34m)\u001b[0m\u001b[0;34m\u001b[0m\u001b[0m\n",
      "\u001b[0;31mNameError\u001b[0m: name 'best_subjects_roisum' is not defined"
     ]
    }
   ],
   "source": [
    "# load  subject nifti\n",
    "for sj in np.hstack([best_subjects_roisum,181,182,183]):\n",
    "    data=nb.load(os.path.join(out_dir,best_subjects,'prfresults_subject_%d_ecc_r2_mask.nii'%sj)).get_data()\n",
    "\n",
    "    pl.figure(figsize=(15,5))\n",
    "    pl.title(sj)\n",
    "    data[data==0] = np.nan\n",
    "    pl.subplot(131)\n",
    "    pl.imshow(data[52,25:50,5:20,0].T,origin='lowerleft',cmap='hsv',clim=[0,360],interpolation='nearest')\n",
    "    sn.despine(offset=10)\n",
    "    pl.subplot(132)\n",
    "    pl.imshow(data[30:60,38,5:20,0].T,origin='lowerleft',cmap='hsv',clim=[0,360],interpolation='nearest')\n",
    "    sn.despine(offset=10)\n",
    "    pl.subplot(133)\n",
    "    pl.imshow(data[20:70,30:50,11,0].T,origin='lowerleft',cmap='hsv',clim=[0,360],interpolation='nearest')\n",
    "    sn.despine(offset=10)\n",
    "\n",
    "    pl.savefig()\n"
   ]
  },
  {
   "cell_type": "code",
   "execution_count": null,
   "metadata": {
    "collapsed": true
   },
   "outputs": [],
   "source": [
    "# create individual subject nifti mask"
   ]
  },
  {
   "cell_type": "code",
   "execution_count": null,
   "metadata": {
    "collapsed": true
   },
   "outputs": [],
   "source": []
  },
  {
   "cell_type": "markdown",
   "metadata": {},
   "source": [
    "# mask 1: as in paper\n",
    "\n",
    "Let's first create a mask as they did in the paper, this is based on the boundary between a 'noise' and 'signal pool within the r-squareds across all grayordinates. To do this, we fit a a gaussian mixture model and define the boundary between the pools as the transition point between the gaussians:"
   ]
  },
  {
   "cell_type": "code",
   "execution_count": 25,
   "metadata": {
    "collapsed": false
   },
   "outputs": [
    {
     "name": "stdout",
     "output_type": "stream",
     "text": [
      "subject 4, r2 threshold: 2.21\n",
      "subject 116, r2 threshold: 2.48\n",
      "subject 7, r2 threshold: 2.87\n",
      "subject 171, r2 threshold: 2.49\n",
      "subject 58, r2 threshold: 2.69\n",
      "subject 74, r2 threshold: 2.49\n",
      "subject 178, r2 threshold: 2.79\n",
      "subject 34, r2 threshold: 2.63\n",
      "subject 32, r2 threshold: 2.18\n",
      "subject 27, r2 threshold: 3.89\n",
      "subject 181, r2 threshold: 8.08\n",
      "subject 182, r2 threshold: 8.19\n",
      "subject 183, r2 threshold: 10.51\n",
      "subject 7, r2 threshold: 2.87\n",
      "subject 97, r2 threshold: 2.57\n",
      "subject 169, r2 threshold: 3.17\n",
      "subject 47, r2 threshold: 4.04\n",
      "subject 101, r2 threshold: 2.78\n",
      "subject 27, r2 threshold: 3.89\n",
      "subject 45, r2 threshold: 3.24\n",
      "subject 25, r2 threshold: 2.74\n",
      "subject 156, r2 threshold: 2.83\n",
      "subject 141, r2 threshold: 2.64\n",
      "subject 181, r2 threshold: 8.08\n",
      "subject 182, r2 threshold: 8.19\n",
      "subject 183, r2 threshold: 10.51\n",
      "subject 47, r2 threshold: 4.04\n",
      "subject 7, r2 threshold: 2.87\n",
      "subject 97, r2 threshold: 2.57\n",
      "subject 169, r2 threshold: 3.17\n",
      "subject 101, r2 threshold: 2.78\n",
      "subject 45, r2 threshold: 3.24\n",
      "subject 27, r2 threshold: 3.89\n",
      "subject 25, r2 threshold: 2.74\n",
      "subject 2, r2 threshold: 2.58\n",
      "subject 131, r2 threshold: 2.85\n",
      "subject 181, r2 threshold: 8.08\n",
      "subject 182, r2 threshold: 8.19\n",
      "subject 183, r2 threshold: 10.51\n"
     ]
    }
   ],
   "source": [
    "# now for a mask one\n",
    "for best_subjects in ['best_subjects_v123','best_subjects_cer','best_subjects_cergmm']:\n",
    "    print 'now masking for %s'%best_subjects\n",
    "\n",
    "    for sj in np.hstack([eval(best_subjects),181,182,183]):#allresults.shape[1]-1]:#range(allresults.shape[1]-1,allresults.shape[1]):\n",
    "\n",
    "        # get results for this subject\n",
    "        these_results = copy.copy(allresults[0,sj])\n",
    "\n",
    "        r2s = these_results[4]\n",
    "\n",
    "        gmm = GMM(n_components = 2)\n",
    "        gmm = gmm.fit(np.expand_dims(r2s,1))\n",
    "\n",
    "        x = np.linspace(0,100,10000)\n",
    "        logprob, responsibilities = gmm.score_samples(np.expand_dims(x,1))\n",
    "\n",
    "        pdf = np.exp(logprob)\n",
    "        pdf_individual = responsibilities * pdf[:, np.newaxis]\n",
    "\n",
    "        thresh = x[np.where(pdf_individual[:,0]>pdf_individual[:,1])[0]][0]\n",
    "        if thresh == 0:\n",
    "            thresh = x[np.where(pdf_individual[:,1]>pdf_individual[:,0])[0]][0]\n",
    "\n",
    "        print 'subject %d, r2 threshold: %.2f'%(sj,thresh)\n",
    "\n",
    "        # define mask with this threshold\n",
    "        mask = (these_results[4]<thresh)\n",
    "\n",
    "        these_results[:,mask]= np.nan\n",
    "\n",
    "        # save results\n",
    "        cii = os.path.join(out_dir,best_subjects,'prfresults_subject_%d_mask_paper.dscalar.nii'%sj)\n",
    "        cifti.write(cii, these_results, (cifti.Scalar.from_names(['ang', 'ecc', 'gain', 'meanvol', 'R2', 'rfsize']), bm))\n",
    "        # and convert the created cifti file to gii files\n",
    "        wbc_c = wbc.format(cii=cii, cii_n=cii[:-4])\n",
    "        os.system(wbc_c)    \n",
    "\n"
   ]
  },
  {
   "cell_type": "code",
   "execution_count": 26,
   "metadata": {
    "collapsed": false
   },
   "outputs": [
    {
     "ename": "SyntaxError",
     "evalue": "invalid syntax (<ipython-input-26-1628e59d24dd>, line 1)",
     "output_type": "error",
     "traceback": [
      "\u001b[0;36m  File \u001b[0;32m\"<ipython-input-26-1628e59d24dd>\"\u001b[0;36m, line \u001b[0;32m1\u001b[0m\n\u001b[0;31m    rsync -a --no-g --no-p -vzhe ssh --progress vanes@aeneas.labs.vu.nl:/home/shared/2018/visual/hcp_cerebellum/best_subjects_cer /Users/daanvanes/Downloads/hcp_cerebellum\u001b[0m\n\u001b[0m                                   ^\u001b[0m\n\u001b[0;31mSyntaxError\u001b[0m\u001b[0;31m:\u001b[0m invalid syntax\n"
     ]
    }
   ],
   "source": [
    "rsync -a --no-g --no-p -vzhe ssh --progress vanes@aeneas.labs.vu.nl:/home/shared/2018/visual/hcp_cerebellum/best_subjects_cer /Users/daanvanes/Downloads/hcp_cerebellum"
   ]
  },
  {
   "cell_type": "markdown",
   "metadata": {},
   "source": [
    "# mask 2: GMM on cerebellum only\n",
    "\n",
    "Perhaps the signal and noise pools between the cortex and cerebellum are different. Signal is usually lower in the cerebellum, so perhaps the R2 threshold derived from the cortex is too high. "
   ]
  },
  {
   "cell_type": "code",
   "execution_count": 28,
   "metadata": {
    "collapsed": false
   },
   "outputs": [
    {
     "name": "stdout",
     "output_type": "stream",
     "text": [
      "now masking for best_subjects_v123\n",
      "subject 4, r2 threshold: 1.57\n",
      "subject 116, r2 threshold: 1.55\n",
      "subject 7, r2 threshold: 2.09\n",
      "subject 171, r2 threshold: 1.53\n",
      "subject 58, r2 threshold: 1.53\n",
      "subject 74, r2 threshold: 1.43\n",
      "subject 178, r2 threshold: 1.57\n",
      "subject 34, r2 threshold: 1.18\n",
      "subject 32, r2 threshold: 1.63\n",
      "subject 27, r2 threshold: 1.86\n",
      "subject 181, r2 threshold: 2.92\n",
      "subject 182, r2 threshold: 3.32\n",
      "subject 183, r2 threshold: 3.93\n",
      "now masking for best_subjects_cer\n",
      "subject 7, r2 threshold: 2.09\n",
      "subject 97, r2 threshold: 2.10\n",
      "subject 169, r2 threshold: 1.84\n",
      "subject 47, r2 threshold: 1.96\n",
      "subject 101, r2 threshold: 2.04\n",
      "subject 27, r2 threshold: 1.86\n",
      "subject 45, r2 threshold: 1.96\n",
      "subject 25, r2 threshold: 1.72\n",
      "subject 156, r2 threshold: 1.70\n",
      "subject 141, r2 threshold: 1.59\n",
      "subject 181, r2 threshold: 2.92\n",
      "subject 182, r2 threshold: 3.32\n",
      "subject 183, r2 threshold: 3.93\n",
      "now masking for best_subjects_cergmm\n",
      "subject 47, r2 threshold: 1.96\n",
      "subject 7, r2 threshold: 2.09\n",
      "subject 97, r2 threshold: 2.10\n",
      "subject 169, r2 threshold: 1.84\n",
      "subject 101, r2 threshold: 2.04\n",
      "subject 45, r2 threshold: 1.96\n",
      "subject 27, r2 threshold: 1.86\n",
      "subject 25, r2 threshold: 1.72\n",
      "subject 2, r2 threshold: 1.97\n",
      "subject 131, r2 threshold: 1.86\n",
      "subject 181, r2 threshold: 2.92\n",
      "subject 182, r2 threshold: 3.32\n",
      "subject 183, r2 threshold: 3.93\n"
     ]
    }
   ],
   "source": [
    "# load cerebellum_mask from the cerebellum atlas\n",
    "fncer = '/home/vanes/bin/fsl/data/atlases/Cerebellum/Cerebellum-MNIfnirt-maxprob-thr50-2mm.nii.gz'\n",
    "cerimg = nb.load(fncer)\n",
    "cdata = cerimg.get_data()\n",
    "cmask = (cdata!=0)\n",
    "\n",
    "for best_subjects in ['best_subjects_v123','best_subjects_cer','best_subjects_cergmm']:\n",
    "    print 'now masking for %s'%best_subjects\n",
    "\n",
    "    for sj in np.hstack([eval(best_subjects),181,182,183]):#allresults.shape[1]-1]:#range(allresults.shape[1]-1,allresults.shape[1]):\n",
    "\n",
    "        # load the prf results nifti\n",
    "        fn = os.path.join(out_dir,'all_subjects','prfresults_subject_%d.dscalar_data_sub.nii'%sj)\n",
    "        img = nb.load(fn)\n",
    "        data = img.get_data()\n",
    "\n",
    "        # mask r2s with cerebellum mask:\n",
    "        r2s = np.ravel(data[cmask,4])\n",
    "\n",
    "        # fit gaussian mixture model to define r2 threshold\n",
    "        gmm = GMM(n_components = 2)\n",
    "        gmm = gmm.fit(np.expand_dims(r2s,1))\n",
    "\n",
    "        x = np.linspace(0,100,10000)\n",
    "        logprob, responsibilities = gmm.score_samples(np.expand_dims(x,1))\n",
    "\n",
    "        pdf = np.exp(logprob)\n",
    "        pdf_individual = responsibilities * pdf[:, np.newaxis]\n",
    "\n",
    "        thresh = x[np.where(pdf_individual[:,0]>pdf_individual[:,1])[0]][0]\n",
    "        if thresh == 0:\n",
    "            thresh = x[np.where(pdf_individual[:,1]>pdf_individual[:,0])[0]][0]\n",
    "\n",
    "        print 'subject %d, r2 threshold: %.2f'%(sj,thresh)\n",
    "\n",
    "        # define mask with this threshold\n",
    "        mask = (data[:,:,:,4]<thresh)\n",
    "\n",
    "        #mask data\n",
    "        data[mask] = np.nan\n",
    "\n",
    "        # save data\n",
    "        out_fn = os.path.join(out_dir,best_subjects,'prfresults_subject_%d_mask_cergmm.nii'%sj)        \n",
    "        new_data = nb.Nifti1Image(data,affine=img.affine,header=img.header)\n",
    "        nb.save(new_data,out_fn[:-4])\n",
    "        \n",
    "    "
   ]
  },
  {
   "cell_type": "markdown",
   "metadata": {},
   "source": [
    "### observation from inspecting resulting niftis: \n",
    "\n",
    "r2 definition based on cerebellum only is too lenient, too many voxels survive\n",
    "r2 definition based on whole brain is nice, but there's a clear distinction between an area with voxels of smaller than or larger than 0.5.\n",
    "\n",
    "So make maps with ecc threshold and r2 threshold. First, let's make it easy by using thresholds from the paper:\n",
    "2.2 for subjects and 9.8 for avg subjects for explained variance, and let's use the 0.5 eccentricity for all subjects."
   ]
  },
  {
   "cell_type": "markdown",
   "metadata": {},
   "source": [
    "# mask 1: as in paper\n",
    "\n",
    "Let's first create a mask as they did in the paper, this is based on the boundary between a 'noise' and 'signal pool within the r-squareds across all grayordinates. To do this, we fit a a gaussian mixture model and define the boundary between the pools as the transition point between the gaussians:"
   ]
  },
  {
   "cell_type": "code",
   "execution_count": 25,
   "metadata": {
    "collapsed": false
   },
   "outputs": [
    {
     "name": "stdout",
     "output_type": "stream",
     "text": [
      "subject 4, r2 threshold: 2.21\n",
      "subject 116, r2 threshold: 2.48\n",
      "subject 7, r2 threshold: 2.87\n",
      "subject 171, r2 threshold: 2.49\n",
      "subject 58, r2 threshold: 2.69\n",
      "subject 74, r2 threshold: 2.49\n",
      "subject 178, r2 threshold: 2.79\n",
      "subject 34, r2 threshold: 2.63\n",
      "subject 32, r2 threshold: 2.18\n",
      "subject 27, r2 threshold: 3.89\n",
      "subject 181, r2 threshold: 8.08\n",
      "subject 182, r2 threshold: 8.19\n",
      "subject 183, r2 threshold: 10.51\n",
      "subject 7, r2 threshold: 2.87\n",
      "subject 97, r2 threshold: 2.57\n",
      "subject 169, r2 threshold: 3.17\n",
      "subject 47, r2 threshold: 4.04\n",
      "subject 101, r2 threshold: 2.78\n",
      "subject 27, r2 threshold: 3.89\n",
      "subject 45, r2 threshold: 3.24\n",
      "subject 25, r2 threshold: 2.74\n",
      "subject 156, r2 threshold: 2.83\n",
      "subject 141, r2 threshold: 2.64\n",
      "subject 181, r2 threshold: 8.08\n",
      "subject 182, r2 threshold: 8.19\n",
      "subject 183, r2 threshold: 10.51\n",
      "subject 47, r2 threshold: 4.04\n",
      "subject 7, r2 threshold: 2.87\n",
      "subject 97, r2 threshold: 2.57\n",
      "subject 169, r2 threshold: 3.17\n",
      "subject 101, r2 threshold: 2.78\n",
      "subject 45, r2 threshold: 3.24\n",
      "subject 27, r2 threshold: 3.89\n",
      "subject 25, r2 threshold: 2.74\n",
      "subject 2, r2 threshold: 2.58\n",
      "subject 131, r2 threshold: 2.85\n",
      "subject 181, r2 threshold: 8.08\n",
      "subject 182, r2 threshold: 8.19\n",
      "subject 183, r2 threshold: 10.51\n"
     ]
    }
   ],
   "source": [
    "# now for a mask one\n",
    "for best_subjects in ['best_subjects_v123','best_subjects_cer','best_subjects_cergmm']:\n",
    "    print 'now masking for %s'%best_subjects\n",
    "\n",
    "    for sj in np.hstack([eval(best_subjects),181,182,183]):#allresults.shape[1]-1]:#range(allresults.shape[1]-1,allresults.shape[1]):\n",
    "\n",
    "        # get results for this subject\n",
    "        these_results = copy.copy(allresults[0,sj])\n",
    "\n",
    "        r2s = these_results[4]\n",
    "\n",
    "        gmm = GMM(n_components = 2)\n",
    "        gmm = gmm.fit(np.expand_dims(r2s,1))\n",
    "\n",
    "        x = np.linspace(0,100,10000)\n",
    "        logprob, responsibilities = gmm.score_samples(np.expand_dims(x,1))\n",
    "\n",
    "        pdf = np.exp(logprob)\n",
    "        pdf_individual = responsibilities * pdf[:, np.newaxis]\n",
    "\n",
    "        thresh = x[np.where(pdf_individual[:,0]>pdf_individual[:,1])[0]][0]\n",
    "        if thresh == 0:\n",
    "            thresh = x[np.where(pdf_individual[:,1]>pdf_individual[:,0])[0]][0]\n",
    "\n",
    "        print 'subject %d, r2 threshold: %.2f'%(sj,thresh)\n",
    "\n",
    "        # define mask with this threshold\n",
    "        mask = (these_results[4]<thresh)\n",
    "\n",
    "        these_results[:,mask]= np.nan\n",
    "\n",
    "        # save results\n",
    "        cii = os.path.join(out_dir,best_subjects,'prfresults_subject_%d_mask_paper.dscalar.nii'%sj)\n",
    "        cifti.write(cii, these_results, (cifti.Scalar.from_names(['ang', 'ecc', 'gain', 'meanvol', 'R2', 'rfsize']), bm))\n",
    "        # and convert the created cifti file to gii files\n",
    "        wbc_c = wbc.format(cii=cii, cii_n=cii[:-4])\n",
    "        os.system(wbc_c)    \n",
    "\n"
   ]
  },
  {
   "cell_type": "code",
   "execution_count": 26,
   "metadata": {
    "collapsed": false
   },
   "outputs": [
    {
     "ename": "SyntaxError",
     "evalue": "invalid syntax (<ipython-input-26-1628e59d24dd>, line 1)",
     "output_type": "error",
     "traceback": [
      "\u001b[0;36m  File \u001b[0;32m\"<ipython-input-26-1628e59d24dd>\"\u001b[0;36m, line \u001b[0;32m1\u001b[0m\n\u001b[0;31m    rsync -a --no-g --no-p -vzhe ssh --progress vanes@aeneas.labs.vu.nl:/home/shared/2018/visual/hcp_cerebellum/best_subjects_cer /Users/daanvanes/Downloads/hcp_cerebellum\u001b[0m\n\u001b[0m                                   ^\u001b[0m\n\u001b[0;31mSyntaxError\u001b[0m\u001b[0;31m:\u001b[0m invalid syntax\n"
     ]
    }
   ],
   "source": [
    "rsync -a --no-g --no-p -vzhe ssh --progress vanes@aeneas.labs.vu.nl:/home/shared/2018/visual/hcp_cerebellum/best_subjects_cer /Users/daanvanes/Downloads/hcp_cerebellum"
   ]
  },
  {
   "cell_type": "markdown",
   "metadata": {},
   "source": [
    "# mask 2: GMM on cerebellum only\n",
    "\n",
    "Perhaps the signal and noise pools between the cortex and cerebellum are different. Signal is usually lower in the cerebellum, so perhaps the R2 threshold derived from the cortex is too high. "
   ]
  },
  {
   "cell_type": "code",
   "execution_count": 28,
   "metadata": {
    "collapsed": false
   },
   "outputs": [
    {
     "name": "stdout",
     "output_type": "stream",
     "text": [
      "now masking for best_subjects_v123\n",
      "subject 4, r2 threshold: 1.57\n",
      "subject 116, r2 threshold: 1.55\n",
      "subject 7, r2 threshold: 2.09\n",
      "subject 171, r2 threshold: 1.53\n",
      "subject 58, r2 threshold: 1.53\n",
      "subject 74, r2 threshold: 1.43\n",
      "subject 178, r2 threshold: 1.57\n",
      "subject 34, r2 threshold: 1.18\n",
      "subject 32, r2 threshold: 1.63\n",
      "subject 27, r2 threshold: 1.86\n",
      "subject 181, r2 threshold: 2.92\n",
      "subject 182, r2 threshold: 3.32\n",
      "subject 183, r2 threshold: 3.93\n",
      "now masking for best_subjects_cer\n",
      "subject 7, r2 threshold: 2.09\n",
      "subject 97, r2 threshold: 2.10\n",
      "subject 169, r2 threshold: 1.84\n",
      "subject 47, r2 threshold: 1.96\n",
      "subject 101, r2 threshold: 2.04\n",
      "subject 27, r2 threshold: 1.86\n",
      "subject 45, r2 threshold: 1.96\n",
      "subject 25, r2 threshold: 1.72\n",
      "subject 156, r2 threshold: 1.70\n",
      "subject 141, r2 threshold: 1.59\n",
      "subject 181, r2 threshold: 2.92\n",
      "subject 182, r2 threshold: 3.32\n",
      "subject 183, r2 threshold: 3.93\n",
      "now masking for best_subjects_cergmm\n",
      "subject 47, r2 threshold: 1.96\n",
      "subject 7, r2 threshold: 2.09\n",
      "subject 97, r2 threshold: 2.10\n",
      "subject 169, r2 threshold: 1.84\n",
      "subject 101, r2 threshold: 2.04\n",
      "subject 45, r2 threshold: 1.96\n",
      "subject 27, r2 threshold: 1.86\n",
      "subject 25, r2 threshold: 1.72\n",
      "subject 2, r2 threshold: 1.97\n",
      "subject 131, r2 threshold: 1.86\n",
      "subject 181, r2 threshold: 2.92\n",
      "subject 182, r2 threshold: 3.32\n",
      "subject 183, r2 threshold: 3.93\n"
     ]
    }
   ],
   "source": [
    "# load cerebellum_mask from the cerebellum atlas\n",
    "fncer = '/home/vanes/bin/fsl/data/atlases/Cerebellum/Cerebellum-MNIfnirt-maxprob-thr50-2mm.nii.gz'\n",
    "cerimg = nb.load(fncer)\n",
    "cdata = cerimg.get_data()\n",
    "cmask = (cdata!=0)\n",
    "\n",
    "for best_subjects in ['best_subjects_v123','best_subjects_cer','best_subjects_cergmm']:\n",
    "    print 'now masking for %s'%best_subjects\n",
    "\n",
    "    for sj in np.hstack([eval(best_subjects),181,182,183]):#allresults.shape[1]-1]:#range(allresults.shape[1]-1,allresults.shape[1]):\n",
    "\n",
    "        # load the prf results nifti\n",
    "        fn = os.path.join(out_dir,'all_subjects','prfresults_subject_%d.dscalar_data_sub.nii'%sj)\n",
    "        img = nb.load(fn)\n",
    "        data = img.get_data()\n",
    "\n",
    "        # mask r2s with cerebellum mask:\n",
    "        r2s = np.ravel(data[cmask,4])\n",
    "\n",
    "        # fit gaussian mixture model to define r2 threshold\n",
    "        gmm = GMM(n_components = 2)\n",
    "        gmm = gmm.fit(np.expand_dims(r2s,1))\n",
    "\n",
    "        x = np.linspace(0,100,10000)\n",
    "        logprob, responsibilities = gmm.score_samples(np.expand_dims(x,1))\n",
    "\n",
    "        pdf = np.exp(logprob)\n",
    "        pdf_individual = responsibilities * pdf[:, np.newaxis]\n",
    "\n",
    "        thresh = x[np.where(pdf_individual[:,0]>pdf_individual[:,1])[0]][0]\n",
    "        if thresh == 0:\n",
    "            thresh = x[np.where(pdf_individual[:,1]>pdf_individual[:,0])[0]][0]\n",
    "\n",
    "        print 'subject %d, r2 threshold: %.2f'%(sj,thresh)\n",
    "\n",
    "        # define mask with this threshold\n",
    "        mask = (data[:,:,:,4]<thresh)\n",
    "\n",
    "        #mask data\n",
    "        data[mask] = np.nan\n",
    "\n",
    "        # save data\n",
    "        out_fn = os.path.join(out_dir,best_subjects,'prfresults_subject_%d_mask_cergmm.nii'%sj)        \n",
    "        new_data = nb.Nifti1Image(data,affine=img.affine,header=img.header)\n",
    "        nb.save(new_data,out_fn[:-4])\n",
    "        \n",
    "    "
   ]
  },
  {
   "cell_type": "markdown",
   "metadata": {},
   "source": [
    "### observation from inspecting resulting niftis: \n",
    "\n",
    "r2 definition based on cerebellum only is too lenient, too many voxels survive\n",
    "r2 definition based on whole brain is nice, but there's a clear distinction between an area with voxels of smaller than or larger than 0.5.\n",
    "\n",
    "So make maps with ecc threshold and r2 threshold. First, let's make it easy by using thresholds from the paper:\n",
    "2.2 for subjects and 9.8 for avg subjects for explained variance, and let's use the 0.5 eccentricity for all subjects."
   ]
  }
 ],
 "metadata": {
  "kernelspec": {
   "display_name": "Python [analysis]",
   "language": "python",
   "name": "Python [analysis]"
  },
  "language_info": {
   "codemirror_mode": {
    "name": "ipython",
    "version": 2
   },
   "file_extension": ".py",
   "mimetype": "text/x-python",
   "name": "python",
   "nbconvert_exporter": "python",
   "pygments_lexer": "ipython2",
   "version": "2.7.12"
  }
 },
 "nbformat": 4,
 "nbformat_minor": 0
}
