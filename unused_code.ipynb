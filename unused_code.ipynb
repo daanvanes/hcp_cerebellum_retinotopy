{
 "cells": [
  {
   "cell_type": "markdown",
   "metadata": {},
   "source": [
    "# unused code"
   ]
  },
  {
   "cell_type": "code",
   "execution_count": null,
   "metadata": {
    "collapsed": true
   },
   "outputs": [],
   "source": [
    "def unit_vector(vector):\n",
    "    \"\"\" Returns the unit vector of the vector.  \"\"\"\n",
    "    return vector / np.linalg.norm(vector)\n",
    "\n",
    "def angle_between(v1, v2):\n",
    "    \"\"\" Returns the angle in radians between vectors 'v1' and 'v2'::\n",
    "\n",
    "            >>> angle_between((1, 0, 0), (0, 1, 0))\n",
    "            1.5707963267948966\n",
    "            >>> angle_between((1, 0, 0), (1, 0, 0))\n",
    "            0.0\n",
    "            >>> angle_between((1, 0, 0), (-1, 0, 0))\n",
    "            3.141592653589793\n",
    "    \"\"\"\n",
    "    v1_u = unit_vector(v1)\n",
    "    v2_u = unit_vector(v2)\n",
    "    return np.degrees(np.arccos(np.clip(np.dot(v1_u, v2_u), -1.0, 1.0)))"
   ]
  },
  {
   "cell_type": "code",
   "execution_count": null,
   "metadata": {
    "collapsed": true
   },
   "outputs": [],
   "source": [
    "# now for a mask one\n",
    "for sj in [best_subjects_roisum[0]]:#np.hstack([best_subjects,181,182,183]):#allresults.shape[1]-1]:#range(allresults.shape[1]-1,allresults.shape[1]):\n",
    "\n",
    "    # get results for this subject\n",
    "    these_results = copy.copy(newresults[:,sj])\n",
    "    \n",
    "    vecs1 = np.vstack([these_results[1,0,:],these_results[1,1,:]]).T\n",
    "    vecs2 = np.vstack([these_results[2,0,:],these_results[2,1,:]]).T\n",
    "    \n",
    "    angle_diff = []\n",
    "    for v1,v2 in zip(vecs1,vecs2):\n",
    "        angle_diff.append(angle_between(v1,v2))\n",
    "    angle_diff = np.array(angle_diff)\n",
    "    \n",
    "    # add angle to these results\n",
    "    these_results = copy.copy(allresults[0,sj])\n",
    "    these_results= np.vstack([these_results,(angle_diff<40)])\n",
    "    \n",
    "    # save results\n",
    "    cii = os.path.join(out_dir,'best_subjects_roisum','prfresults_subject_%d_ang.dscalar.nii'%sj)\n",
    "    cifti.write(cii, these_results, (cifti.Scalar.from_names(['ang', 'ecc', 'gain', 'meanvol', 'R2', 'rfsize','angdiff']), bm))\n",
    "    # and convert the created cifti file to gii files\n",
    "    wbc_c = wbc.format(cii=cii, cii_n=cii[:-4])\n",
    "    os.system(wbc_c)\n",
    "\n",
    "\n"
   ]
  }
 ],
 "metadata": {
  "kernelspec": {
   "display_name": "Python [analysis]",
   "language": "python",
   "name": "Python [analysis]"
  }
 },
 "nbformat": 4,
 "nbformat_minor": 0
}
